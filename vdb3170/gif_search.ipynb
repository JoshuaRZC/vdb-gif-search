{
 "cells": [
  {
   "attachments": {},
   "cell_type": "markdown",
   "metadata": {},
   "source": [
    "# NLP Powered GIF search\n"
   ]
  },
  {
   "cell_type": "markdown",
   "metadata": {},
   "source": [
    "We will use the [Tumblr GIF Description Dataset](http://raingo.github.io/TGIF-Release/), which contains over 100k animated GIFs and 120K sentences describing its visual content. Using this data with a _vector database_ and _retriever_ we are able to create an NLP-powered GIF search tool.\n"
   ]
  },
  {
   "cell_type": "markdown",
   "metadata": {},
   "source": [
    "We must also set the following notebook parameters to display the GIF images we will be working with.\n"
   ]
  },
  {
   "cell_type": "code",
   "execution_count": 23,
   "metadata": {
    "id": "r8KN-iWWdwby"
   },
   "outputs": [],
   "source": [
    "from IPython.display import HTML\n",
    "from IPython.core.interactiveshell import InteractiveShell\n",
    "\n",
    "InteractiveShell.ast_node_interactivity = \"all\"\n"
   ]
  },
  {
   "cell_type": "markdown",
   "metadata": {
    "id": "7agJKFkZ6UGB"
   },
   "source": [
    "## Explore the Dataset\n"
   ]
  },
  {
   "cell_type": "markdown",
   "metadata": {},
   "source": [
    "Now let's explore the downloaded files. The data we want is in _tgif-v1.0.tsv_ file in the _data_ folder. We can use _pandas_ library to open the file. We need to set delimiter as `\\t` as the file contains tab separated values.\n"
   ]
  },
  {
   "cell_type": "code",
   "execution_count": 24,
   "metadata": {
    "id": "1rwBQ3I2Ye7c"
   },
   "outputs": [
    {
     "data": {
      "text/html": [
       "<div>\n",
       "<style scoped>\n",
       "    .dataframe tbody tr th:only-of-type {\n",
       "        vertical-align: middle;\n",
       "    }\n",
       "\n",
       "    .dataframe tbody tr th {\n",
       "        vertical-align: top;\n",
       "    }\n",
       "\n",
       "    .dataframe thead th {\n",
       "        text-align: right;\n",
       "    }\n",
       "</style>\n",
       "<table border=\"1\" class=\"dataframe\">\n",
       "  <thead>\n",
       "    <tr style=\"text-align: right;\">\n",
       "      <th></th>\n",
       "      <th>url</th>\n",
       "      <th>description</th>\n",
       "    </tr>\n",
       "  </thead>\n",
       "  <tbody>\n",
       "    <tr>\n",
       "      <th>0</th>\n",
       "      <td>https://38.media.tumblr.com/9f6c25cc350f12aa74...</td>\n",
       "      <td>a man is glaring, and someone with sunglasses ...</td>\n",
       "    </tr>\n",
       "    <tr>\n",
       "      <th>1</th>\n",
       "      <td>https://38.media.tumblr.com/9ead028ef62004ef6a...</td>\n",
       "      <td>a cat tries to catch a mouse on a tablet</td>\n",
       "    </tr>\n",
       "    <tr>\n",
       "      <th>2</th>\n",
       "      <td>https://38.media.tumblr.com/9f43dc410be85b1159...</td>\n",
       "      <td>a man dressed in red is dancing.</td>\n",
       "    </tr>\n",
       "    <tr>\n",
       "      <th>3</th>\n",
       "      <td>https://38.media.tumblr.com/9f659499c8754e40cf...</td>\n",
       "      <td>an animal comes close to another in the jungle</td>\n",
       "    </tr>\n",
       "    <tr>\n",
       "      <th>4</th>\n",
       "      <td>https://38.media.tumblr.com/9ed1c99afa7d714118...</td>\n",
       "      <td>a man in a hat adjusts his tie and makes a wei...</td>\n",
       "    </tr>\n",
       "  </tbody>\n",
       "</table>\n",
       "</div>"
      ],
      "text/plain": [
       "                                                 url  \\\n",
       "0  https://38.media.tumblr.com/9f6c25cc350f12aa74...   \n",
       "1  https://38.media.tumblr.com/9ead028ef62004ef6a...   \n",
       "2  https://38.media.tumblr.com/9f43dc410be85b1159...   \n",
       "3  https://38.media.tumblr.com/9f659499c8754e40cf...   \n",
       "4  https://38.media.tumblr.com/9ed1c99afa7d714118...   \n",
       "\n",
       "                                         description  \n",
       "0  a man is glaring, and someone with sunglasses ...  \n",
       "1           a cat tries to catch a mouse on a tablet  \n",
       "2                   a man dressed in red is dancing.  \n",
       "3     an animal comes close to another in the jungle  \n",
       "4  a man in a hat adjusts his tie and makes a wei...  "
      ]
     },
     "execution_count": 24,
     "metadata": {},
     "output_type": "execute_result"
    }
   ],
   "source": [
    "import pandas as pd\n",
    "\n",
    "\n",
    "# Load dataset to a pandas dataframe\n",
    "df = pd.read_csv(\"../data/tgif-v1.0.tsv\", delimiter=\"\\t\", names=[\"url\", \"description\"])\n",
    "df.head()\n"
   ]
  },
  {
   "cell_type": "markdown",
   "metadata": {},
   "source": [
    "_Note the dataset does not contain the actual GIF files. But it has URLs we can use to download/access the GIF files. This is great as we do not need to store/download all the GIF files. We can directly load the required GIF files using the URL when displaying the search results._\n",
    "\n",
    "There are some duplicate descriptions in the dataset.\n"
   ]
  },
  {
   "cell_type": "code",
   "execution_count": 25,
   "metadata": {},
   "outputs": [
    {
     "data": {
      "text/plain": [
       "125782"
      ]
     },
     "execution_count": 25,
     "metadata": {},
     "output_type": "execute_result"
    },
    {
     "data": {
      "text/plain": [
       "102068"
      ]
     },
     "execution_count": 25,
     "metadata": {},
     "output_type": "execute_result"
    },
    {
     "data": {
      "text/plain": [
       "url\n",
       "https://38.media.tumblr.com/ddbfe51aff57fd8446f49546bc027bd7/tumblr_nowv0v6oWj1uwbrato1_500.gif    4\n",
       "https://33.media.tumblr.com/46c873a60bb8bd97bdc253b826d1d7a1/tumblr_nh7vnlXEvL1u6fg3no1_500.gif    4\n",
       "https://38.media.tumblr.com/b544f3c87cbf26462dc267740bb1c842/tumblr_n98uooxl0K1thiyb6o1_250.gif    4\n",
       "https://33.media.tumblr.com/88235b43b48e9823eeb3e7890f3d46ef/tumblr_nkg5leY4e21sof15vo1_500.gif    4\n",
       "https://31.media.tumblr.com/69bca8520e1f03b4148dde2ac78469ec/tumblr_npvi0kW4OD1urqm0mo1_400.gif    4\n",
       "Name: count, dtype: int64"
      ]
     },
     "execution_count": 25,
     "metadata": {},
     "output_type": "execute_result"
    }
   ],
   "source": [
    "len(df)\n",
    "\n",
    "# Number of *unique* GIFs in the dataset\n",
    "len(df[\"url\"].unique())\n",
    "\n",
    "dupes = df[\"url\"].value_counts().sort_values(ascending=False)\n",
    "dupes.head()\n"
   ]
  },
  {
   "cell_type": "markdown",
   "metadata": {},
   "source": [
    "Let's take a look at one of these duplicated URLs and it's descriptions.\n"
   ]
  },
  {
   "cell_type": "code",
   "execution_count": 26,
   "metadata": {},
   "outputs": [
    {
     "data": {
      "text/html": [
       "<img src=https://33.media.tumblr.com/88235b43b48e9823eeb3e7890f3d46ef/tumblr_nkg5leY4e21sof15vo1_500.gif style='width:120px; height:90px'>"
      ],
      "text/plain": [
       "<IPython.core.display.HTML object>"
      ]
     },
     "execution_count": 26,
     "metadata": {},
     "output_type": "execute_result"
    },
    {
     "name": "stdout",
     "output_type": "stream",
     "text": [
      "two girls are singing music pop in a concert\n"
     ]
    },
    {
     "data": {
      "text/html": [
       "<img src=https://33.media.tumblr.com/88235b43b48e9823eeb3e7890f3d46ef/tumblr_nkg5leY4e21sof15vo1_500.gif style='width:120px; height:90px'>"
      ],
      "text/plain": [
       "<IPython.core.display.HTML object>"
      ]
     },
     "execution_count": 26,
     "metadata": {},
     "output_type": "execute_result"
    },
    {
     "name": "stdout",
     "output_type": "stream",
     "text": [
      "a woman sings sang girl on a stage singing\n"
     ]
    },
    {
     "data": {
      "text/html": [
       "<img src=https://33.media.tumblr.com/88235b43b48e9823eeb3e7890f3d46ef/tumblr_nkg5leY4e21sof15vo1_500.gif style='width:120px; height:90px'>"
      ],
      "text/plain": [
       "<IPython.core.display.HTML object>"
      ]
     },
     "execution_count": 26,
     "metadata": {},
     "output_type": "execute_result"
    },
    {
     "name": "stdout",
     "output_type": "stream",
     "text": [
      "two girls on a stage sing into microphones.\n"
     ]
    },
    {
     "data": {
      "text/html": [
       "<img src=https://33.media.tumblr.com/88235b43b48e9823eeb3e7890f3d46ef/tumblr_nkg5leY4e21sof15vo1_500.gif style='width:120px; height:90px'>"
      ],
      "text/plain": [
       "<IPython.core.display.HTML object>"
      ]
     },
     "execution_count": 26,
     "metadata": {},
     "output_type": "execute_result"
    },
    {
     "name": "stdout",
     "output_type": "stream",
     "text": [
      "two girls dressed in black are singing.\n"
     ]
    }
   ],
   "source": [
    "dupe_url = \"https://33.media.tumblr.com/88235b43b48e9823eeb3e7890f3d46ef/tumblr_nkg5leY4e21sof15vo1_500.gif\"\n",
    "dupe_df = df[df[\"url\"] == dupe_url]\n",
    "\n",
    "# let's take a look at this GIF and it's duplicated descriptions\n",
    "for _, gif in dupe_df.iterrows():\n",
    "    HTML(f\"<img src={gif['url']} style='width:120px; height:90px'>\")\n",
    "    print(gif[\"description\"])\n"
   ]
  },
  {
   "cell_type": "markdown",
   "metadata": {},
   "source": [
    "There is no reason for us to remove these duplicates, as shown here, every description is accurate. You can spot check a few of the other URLs but they all seem to be the same where we have several _accurate_ descriptions for a single GIF.\n"
   ]
  },
  {
   "cell_type": "markdown",
   "metadata": {},
   "source": [
    "That leaves us with 125,781 descriptions for 102,067 GIFs. We will use these descriptions to create _context_ vectors that will be indexed in a vector database to create our GIF search tool. Let's take a look at a few more examples of GIFs and their descriptions.\n"
   ]
  },
  {
   "cell_type": "code",
   "execution_count": 27,
   "metadata": {
    "colab": {
     "base_uri": "https://localhost:8080/",
     "height": 577
    },
    "id": "m0_jfDW6hl4C",
    "outputId": "bcfb0ae3-4c44-4354-e42d-93a3ee35ff2d"
   },
   "outputs": [
    {
     "data": {
      "text/html": [
       "<img src=https://38.media.tumblr.com/9f6c25cc350f12aa74a7dc386a5c4985/tumblr_mevmyaKtDf1rgvhr8o1_500.gif style='width:120px; height:90px'>"
      ],
      "text/plain": [
       "<IPython.core.display.HTML object>"
      ]
     },
     "execution_count": 27,
     "metadata": {},
     "output_type": "execute_result"
    },
    {
     "name": "stdout",
     "output_type": "stream",
     "text": [
      "a man is glaring, and someone with sunglasses appears.\n"
     ]
    },
    {
     "data": {
      "text/html": [
       "<img src=https://38.media.tumblr.com/9ead028ef62004ef6ac2b92e52edd210/tumblr_nok4eeONTv1s2yegdo1_400.gif style='width:120px; height:90px'>"
      ],
      "text/plain": [
       "<IPython.core.display.HTML object>"
      ]
     },
     "execution_count": 27,
     "metadata": {},
     "output_type": "execute_result"
    },
    {
     "name": "stdout",
     "output_type": "stream",
     "text": [
      "a cat tries to catch a mouse on a tablet\n"
     ]
    },
    {
     "data": {
      "text/html": [
       "<img src=https://38.media.tumblr.com/9f43dc410be85b1159d1f42663d811d7/tumblr_mllh01J96X1s9npefo1_250.gif style='width:120px; height:90px'>"
      ],
      "text/plain": [
       "<IPython.core.display.HTML object>"
      ]
     },
     "execution_count": 27,
     "metadata": {},
     "output_type": "execute_result"
    },
    {
     "name": "stdout",
     "output_type": "stream",
     "text": [
      "a man dressed in red is dancing.\n"
     ]
    },
    {
     "data": {
      "text/html": [
       "<img src=https://38.media.tumblr.com/9f659499c8754e40cf3f7ac21d08dae6/tumblr_nqlr0rn8ox1r2r0koo1_400.gif style='width:120px; height:90px'>"
      ],
      "text/plain": [
       "<IPython.core.display.HTML object>"
      ]
     },
     "execution_count": 27,
     "metadata": {},
     "output_type": "execute_result"
    },
    {
     "name": "stdout",
     "output_type": "stream",
     "text": [
      "an animal comes close to another in the jungle\n"
     ]
    },
    {
     "data": {
      "text/html": [
       "<img src=https://38.media.tumblr.com/9ed1c99afa7d71411884101cb054f35f/tumblr_mvtuwlhSkE1qbnleeo1_500.gif style='width:120px; height:90px'>"
      ],
      "text/plain": [
       "<IPython.core.display.HTML object>"
      ]
     },
     "execution_count": 27,
     "metadata": {},
     "output_type": "execute_result"
    },
    {
     "name": "stdout",
     "output_type": "stream",
     "text": [
      "a man in a hat adjusts his tie and makes a weird face.\n"
     ]
    }
   ],
   "source": [
    "for _, gif in df[:5].iterrows():\n",
    "    HTML(f\"<img src={gif['url']} style='width:120px; height:90px'>\")\n",
    "    print(gif[\"description\"])\n"
   ]
  },
  {
   "cell_type": "markdown",
   "metadata": {},
   "source": [
    "We can see that the description of the GIF accurately describes what is happening in the GIF, we can use these descriptions to search through our GIFs.\n"
   ]
  },
  {
   "cell_type": "markdown",
   "metadata": {},
   "source": [
    "Using this data, we can build the GIF search tool with just _two_ components:\n",
    "\n",
    "- a **retriever** to embed GIF descriptions\n",
    "- a **vector database** to store GIF description embeddings and retrieve relevant GIFs\n"
   ]
  },
  {
   "cell_type": "markdown",
   "metadata": {
    "id": "zrKIRGeo6ehR"
   },
   "source": [
    "## Initialize Qdrant Database\n"
   ]
  },
  {
   "cell_type": "markdown",
   "metadata": {},
   "source": [
    "The vector database stores vector representations of our GIF descriptions which we can retrieve using another vector (query vector). We will use the Qdrant vector database, a fully managed vector database that can store and search through billions of records in milliseconds. You could use any other vector database such as FAISS to build this tool. But you may need to manage the database yourself.\n"
   ]
  },
  {
   "cell_type": "code",
   "execution_count": 28,
   "metadata": {
    "id": "Ngbs8wQQoePL"
   },
   "outputs": [],
   "source": [
    "from qdrant_client import QdrantClient\n",
    "from qdrant_client.http import models\n",
    "from qdrant_client.http.models import CollectionStatus\n",
    "\n",
    "client = QdrantClient(host=\"localhost\", port=6333)\n",
    "\n",
    "collection = \"gif_search\"\n",
    "\n",
    "# create the index if it does not exist\n",
    "gif_search = client.recreate_collection(\n",
    "    collection_name=collection,\n",
    "    vectors_config=models.VectorParams(size=384, distance=models.Distance.COSINE),\n",
    ")\n",
    "\n",
    "collection_info = client.get_collection(collection_name=collection)\n",
    "assert collection_info.status == CollectionStatus.GREEN\n",
    "assert collection_info.vectors_count == 0\n"
   ]
  },
  {
   "cell_type": "markdown",
   "metadata": {},
   "source": [
    "Here we specify the name of the index where we will store our GIF descriptions and their URLs, the similarity metric, and the embedding dimension of the vectors. The similarity metric and embedding dimension can change depending on the embedding model used. However, most retrievers use \"cosine\" and 768.\n"
   ]
  },
  {
   "cell_type": "markdown",
   "metadata": {
    "id": "D5mGU3ub6kkb"
   },
   "source": [
    "## Initialize Retriever\n"
   ]
  },
  {
   "cell_type": "markdown",
   "metadata": {},
   "source": [
    "Next, we need to initialize our retriever. The retriever will mainly do two things:\n",
    "\n",
    "1. Generate embeddings for all the GIF descriptions (context vectors/embeddings)\n",
    "2. Generate embeddings for the query (query vector/embedding)\n",
    "\n",
    "The retriever will generate the embeddings in a way that the queries and GIF descriptions with similar meanings are in a similar vector space. Then we can use cosine similarity to calculate this similarity between the query and context embeddings and find the most relevant GIF to our query.\n",
    "\n",
    "We will use a `SentenceTransformer` model trained based on Microsoft's MPNet as our retriever. This model performs well out-of-the-box when searching based on generic semantic similarity.\n"
   ]
  },
  {
   "cell_type": "code",
   "execution_count": 29,
   "metadata": {
    "id": "jtqu5O9Y6q8x"
   },
   "outputs": [
    {
     "data": {
      "text/plain": [
       "SentenceTransformer(\n",
       "  (0): Transformer({'max_seq_length': 256, 'do_lower_case': False}) with Transformer model: BertModel \n",
       "  (1): Pooling({'word_embedding_dimension': 384, 'pooling_mode_cls_token': False, 'pooling_mode_mean_tokens': True, 'pooling_mode_max_tokens': False, 'pooling_mode_mean_sqrt_len_tokens': False})\n",
       "  (2): Normalize()\n",
       ")"
      ]
     },
     "execution_count": 29,
     "metadata": {},
     "output_type": "execute_result"
    }
   ],
   "source": [
    "from sentence_transformers import SentenceTransformer\n",
    "import torch\n",
    "\n",
    "device = \"cuda\" if torch.cuda.is_available() else \"cpu\"\n",
    "\n",
    "# Initialize retriever with SentenceTransformer model\n",
    "# retriever = SentenceTransformer(\"sentence-transformers/all-MiniLM-L6-v2\")\n",
    "retriever = SentenceTransformer(\"../models/all-MiniLM-L6-v2\")\n",
    "retriever.to(device)\n"
   ]
  },
  {
   "cell_type": "markdown",
   "metadata": {
    "id": "0l5JHT4K6xH9"
   },
   "source": [
    "## Generate Embeddings and Upsert\n"
   ]
  },
  {
   "cell_type": "markdown",
   "metadata": {},
   "source": [
    "Now our retriever and the qdrant vector database are initialized. Next, we need to generate embeddings for the GIF descriptions. We will do this in batches to help us more quickly generate embeddings. This means our retriever will generate embeddings for 64 GIF descriptions at once instead of generating them individually (much faster) and send a single API call for each batch of 64 (also much faster).\n",
    "\n",
    "When passing the documents to Qdrant, we need an id (a unique value), embedding (embeddings for the GIF descriptions we have generated earlier), and metadata for each document representing GIFs in the dataset. The metadata is a dictionary containing data relevant to our embeddings. For the GIF search tool, we only need the URL and description.\n"
   ]
  },
  {
   "cell_type": "code",
   "execution_count": 30,
   "metadata": {
    "colab": {
     "base_uri": "https://localhost:8080/",
     "height": 49,
     "referenced_widgets": [
      "fd9832ba430449d6aefdf4f56603751a",
      "f18bf9eeb43f4dbcb3ad0a237da6308b",
      "8493032e71ed4437b1f221c6fcaac709",
      "702ec6e219d74d99a6c929dd65f549ec",
      "94843930b2ab44438afe2875c44fff96",
      "304c08deba6248da82971665e0caa20b",
      "10e79e8c05db4b36b5103116d1210587",
      "3cc568020c5a4f34992eec0d195ae4f9",
      "08d4c47abb954cc7b277769cb86bb9a9",
      "ef45e711623c4f9ba27743de2db32e07",
      "9752dafd1edb478fba9060f29882c47b"
     ]
    },
    "id": "TdwtDfIxw7Ik",
    "outputId": "32811e16-1934-474d-bd82-a12fccf29cf9"
   },
   "outputs": [
    {
     "data": {
      "application/vnd.jupyter.widget-view+json": {
       "model_id": "9b51c76ab2a444ea854f8f180ac7fb77",
       "version_major": 2,
       "version_minor": 0
      },
      "text/plain": [
       "  0%|          | 0/1966 [00:00<?, ?it/s]"
      ]
     },
     "metadata": {},
     "output_type": "display_data"
    }
   ],
   "source": [
    "from tqdm.auto import tqdm\n",
    "\n",
    "# we will use batches of 64\n",
    "batch_size = 64\n",
    "\n",
    "for i in tqdm(range(0, len(df), batch_size)):\n",
    "    # find end of batch\n",
    "    i_end = min(i + batch_size, len(df))\n",
    "    # extract batch\n",
    "    batch = df.iloc[i:i_end]\n",
    "    # generate embeddings for batch\n",
    "    emb = retriever.encode(batch[\"description\"].tolist()).tolist()\n",
    "    # get metadata\n",
    "    meta = batch.to_dict(orient=\"records\")\n",
    "    # create IDs\n",
    "    ids = [idx + 1 for idx in range(i, i_end)]\n",
    "\n",
    "    # add all to upsert list\n",
    "    _ = client.upsert(\n",
    "        collection_name=collection,\n",
    "        points=models.Batch(ids=ids, vectors=emb, payloads=meta),\n",
    "    )\n"
   ]
  },
  {
   "cell_type": "markdown",
   "metadata": {},
   "source": [
    "We can see all our GIF descriptions are now in the Qdrant index. Let's run some queries to test our GIF search tool.\n"
   ]
  },
  {
   "cell_type": "markdown",
   "metadata": {
    "id": "nR5wJ9Ba59_Z"
   },
   "source": [
    "## Querying\n"
   ]
  },
  {
   "cell_type": "markdown",
   "metadata": {},
   "source": [
    "We have two functions, `search_gif`, to handle our search query, and `display_gif`, to display the search results.\n",
    "\n",
    "The `search_gif` function generates vector embedding for the search query using the retriever model and then runs the query on the Qdrant Database. `index.query` will compute the cosine similarity between the query embedding and the GIF description embeddings as we set the metric type as \"cosine\" when we initialize the Qdrant Database. The function will return the URL of the top 10 most relevant GIFs to our search query.\n"
   ]
  },
  {
   "cell_type": "code",
   "execution_count": 31,
   "metadata": {
    "id": "FdHTSCo-6ElT"
   },
   "outputs": [
    {
     "data": {
      "text/plain": [
       "['https://38.media.tumblr.com/af53df8d946bbca23be97691db0ecd5e/tumblr_nq3l305zdF1s71nvbo1_400.gif',\n",
       " 'https://33.media.tumblr.com/a574ab035e7edc7708db423ee67f3ac4/tumblr_nq1zodZJNx1uoke7ao1_400.gif',\n",
       " 'https://38.media.tumblr.com/94703ea885174ffc97c44d57487d7ee9/tumblr_na6oo2PKSC1silsr6o1_400.gif',\n",
       " 'https://38.media.tumblr.com/fa6a31e326066bb27776066150c8c810/tumblr_np38ipgJPd1tkkgpso1_250.gif',\n",
       " 'https://38.media.tumblr.com/241d89939a5714c2db4566d9108245fe/tumblr_n9xv6aqQ5A1qmgppeo1_250.gif',\n",
       " 'https://31.media.tumblr.com/a00ae69f826dbe89a5bdabad567ac88d/tumblr_n8x5e6ZcFW1sjpl9lo1_400.gif',\n",
       " 'https://31.media.tumblr.com/28a9aac3c21941e1c61dd9ab4390c3f5/tumblr_nhdr3clKDa1sntw1mo1_400.gif',\n",
       " 'https://31.media.tumblr.com/5cbd531e1d8cc7fefffdb8a68ec62b1d/tumblr_naysx8YTzn1tzl1owo1_400.gif',\n",
       " 'https://38.media.tumblr.com/bc300fcbae8e4eb65c3901a246f46e4c/tumblr_niu5dzNP7G1u62tooo1_400.gif',\n",
       " 'https://38.media.tumblr.com/1c3edb33951b52020b9271185942b2b2/tumblr_nflm4phy0P1u4txqeo1_250.gif']"
      ]
     },
     "execution_count": 31,
     "metadata": {},
     "output_type": "execute_result"
    }
   ],
   "source": [
    "def search_gif(query):\n",
    "    # Generate embeddings for the query\n",
    "    # xq = retriever.encode(query).tolist()\n",
    "    # Compute cosine similarity between query and embeddings vectors and return top 10 URls\n",
    "    # xc = index.query(xq, top_k=10, include_metadata=True)\n",
    "\n",
    "    results = client.search(\n",
    "        collection_name=collection,\n",
    "        query_vector=retriever.encode(query).tolist(),\n",
    "        limit=10,\n",
    "    )\n",
    "    urls = []\n",
    "    for vector in results:\n",
    "        url = vector.payload[\"url\"]\n",
    "        urls.append(url)\n",
    "    return urls\n",
    "\n",
    "    # result = []\n",
    "    # for context in xc[\"matches\"]:\n",
    "    #     url = context[\"metadata\"][\"url\"]\n",
    "    #     result.append(url)\n",
    "    # return result\n",
    "\n",
    "\n",
    "search_gif(\"a dog being confused\")\n"
   ]
  },
  {
   "cell_type": "markdown",
   "metadata": {},
   "source": [
    "The `display_gif` can display multiple GIFs using its URLs in the jupyter notebook in a grid style. We use this function to display the top 10 GIFs returned by the `search_gif` function.\n"
   ]
  },
  {
   "cell_type": "code",
   "execution_count": 32,
   "metadata": {
    "id": "PCi0cwnW7Y07"
   },
   "outputs": [],
   "source": [
    "def display_gif(urls):\n",
    "    figures = []\n",
    "    for url in urls:\n",
    "        figures.append(\n",
    "            f\"\"\"\n",
    "            <figure style=\"margin: 5px !important;\">\n",
    "              <img src=\"{url}\" style=\"width: 120px; height: 90px\" >\n",
    "            </figure>\n",
    "        \"\"\"\n",
    "        )\n",
    "    return HTML(\n",
    "        data=f\"\"\"\n",
    "        <div style=\"display: flex; flex-flow: row wrap; text-align: center;\">\n",
    "        {''.join(figures)}\n",
    "        </div>\n",
    "    \"\"\"\n",
    "    )\n"
   ]
  },
  {
   "cell_type": "markdown",
   "metadata": {},
   "source": [
    "Let's begin testing some queries.\n"
   ]
  },
  {
   "cell_type": "code",
   "execution_count": 33,
   "metadata": {},
   "outputs": [
    {
     "data": {
      "text/html": [
       "\n",
       "        <div style=\"display: flex; flex-flow: row wrap; text-align: center;\">\n",
       "        \n",
       "            <figure style=\"margin: 5px !important;\">\n",
       "              <img src=\"https://38.media.tumblr.com/af53df8d946bbca23be97691db0ecd5e/tumblr_nq3l305zdF1s71nvbo1_400.gif\" style=\"width: 120px; height: 90px\" >\n",
       "            </figure>\n",
       "        \n",
       "            <figure style=\"margin: 5px !important;\">\n",
       "              <img src=\"https://33.media.tumblr.com/a574ab035e7edc7708db423ee67f3ac4/tumblr_nq1zodZJNx1uoke7ao1_400.gif\" style=\"width: 120px; height: 90px\" >\n",
       "            </figure>\n",
       "        \n",
       "            <figure style=\"margin: 5px !important;\">\n",
       "              <img src=\"https://38.media.tumblr.com/94703ea885174ffc97c44d57487d7ee9/tumblr_na6oo2PKSC1silsr6o1_400.gif\" style=\"width: 120px; height: 90px\" >\n",
       "            </figure>\n",
       "        \n",
       "            <figure style=\"margin: 5px !important;\">\n",
       "              <img src=\"https://38.media.tumblr.com/fa6a31e326066bb27776066150c8c810/tumblr_np38ipgJPd1tkkgpso1_250.gif\" style=\"width: 120px; height: 90px\" >\n",
       "            </figure>\n",
       "        \n",
       "            <figure style=\"margin: 5px !important;\">\n",
       "              <img src=\"https://38.media.tumblr.com/241d89939a5714c2db4566d9108245fe/tumblr_n9xv6aqQ5A1qmgppeo1_250.gif\" style=\"width: 120px; height: 90px\" >\n",
       "            </figure>\n",
       "        \n",
       "            <figure style=\"margin: 5px !important;\">\n",
       "              <img src=\"https://31.media.tumblr.com/a00ae69f826dbe89a5bdabad567ac88d/tumblr_n8x5e6ZcFW1sjpl9lo1_400.gif\" style=\"width: 120px; height: 90px\" >\n",
       "            </figure>\n",
       "        \n",
       "            <figure style=\"margin: 5px !important;\">\n",
       "              <img src=\"https://31.media.tumblr.com/28a9aac3c21941e1c61dd9ab4390c3f5/tumblr_nhdr3clKDa1sntw1mo1_400.gif\" style=\"width: 120px; height: 90px\" >\n",
       "            </figure>\n",
       "        \n",
       "            <figure style=\"margin: 5px !important;\">\n",
       "              <img src=\"https://31.media.tumblr.com/5cbd531e1d8cc7fefffdb8a68ec62b1d/tumblr_naysx8YTzn1tzl1owo1_400.gif\" style=\"width: 120px; height: 90px\" >\n",
       "            </figure>\n",
       "        \n",
       "            <figure style=\"margin: 5px !important;\">\n",
       "              <img src=\"https://38.media.tumblr.com/bc300fcbae8e4eb65c3901a246f46e4c/tumblr_niu5dzNP7G1u62tooo1_400.gif\" style=\"width: 120px; height: 90px\" >\n",
       "            </figure>\n",
       "        \n",
       "            <figure style=\"margin: 5px !important;\">\n",
       "              <img src=\"https://38.media.tumblr.com/1c3edb33951b52020b9271185942b2b2/tumblr_nflm4phy0P1u4txqeo1_250.gif\" style=\"width: 120px; height: 90px\" >\n",
       "            </figure>\n",
       "        \n",
       "        </div>\n",
       "    "
      ],
      "text/plain": [
       "<IPython.core.display.HTML object>"
      ]
     },
     "execution_count": 33,
     "metadata": {},
     "output_type": "execute_result"
    }
   ],
   "source": [
    "gifs = search_gif(\"a dog being confused\")\n",
    "display_gif(gifs)\n"
   ]
  },
  {
   "cell_type": "code",
   "execution_count": 34,
   "metadata": {},
   "outputs": [
    {
     "data": {
      "text/html": [
       "\n",
       "        <div style=\"display: flex; flex-flow: row wrap; text-align: center;\">\n",
       "        \n",
       "            <figure style=\"margin: 5px !important;\">\n",
       "              <img src=\"https://33.media.tumblr.com/73841eb3b37ad5277b324359a83bb19e/tumblr_ngnz25VQpD1twctp1o1_400.gif\" style=\"width: 120px; height: 90px\" >\n",
       "            </figure>\n",
       "        \n",
       "            <figure style=\"margin: 5px !important;\">\n",
       "              <img src=\"https://38.media.tumblr.com/7b8ebff7051b8a7d0502294465559861/tumblr_na8n60gCmT1tiamw8o1_500.gif\" style=\"width: 120px; height: 90px\" >\n",
       "            </figure>\n",
       "        \n",
       "            <figure style=\"margin: 5px !important;\">\n",
       "              <img src=\"https://38.media.tumblr.com/49223a5564c8d7dfafe115063ba88c8a/tumblr_nnrps82EvG1sxvevjo1_400.gif\" style=\"width: 120px; height: 90px\" >\n",
       "            </figure>\n",
       "        \n",
       "            <figure style=\"margin: 5px !important;\">\n",
       "              <img src=\"https://31.media.tumblr.com/aa9c98f92f06cc3484ae395194db6d7f/tumblr_naeyc6yQWy1tahfdeo1_250.gif\" style=\"width: 120px; height: 90px\" >\n",
       "            </figure>\n",
       "        \n",
       "            <figure style=\"margin: 5px !important;\">\n",
       "              <img src=\"https://38.media.tumblr.com/e7a1d7ed5f2289db13e1812a91c0eedf/tumblr_nf8r2nWajt1s236zjo1_400.gif\" style=\"width: 120px; height: 90px\" >\n",
       "            </figure>\n",
       "        \n",
       "            <figure style=\"margin: 5px !important;\">\n",
       "              <img src=\"https://38.media.tumblr.com/7d8f9cac33b4fc76908a37bf28ab6fca/tumblr_noswtqDMKC1tyncywo1_400.gif\" style=\"width: 120px; height: 90px\" >\n",
       "            </figure>\n",
       "        \n",
       "            <figure style=\"margin: 5px !important;\">\n",
       "              <img src=\"https://38.media.tumblr.com/136d1d103edf3a82c2332bf8ef28d6d3/tumblr_nhm8rleyTk1u333yco2_400.gif\" style=\"width: 120px; height: 90px\" >\n",
       "            </figure>\n",
       "        \n",
       "            <figure style=\"margin: 5px !important;\">\n",
       "              <img src=\"https://33.media.tumblr.com/0f97de4f3cc8dca408ca4ab036460412/tumblr_njmp6tj53K1thqmhto1_400.gif\" style=\"width: 120px; height: 90px\" >\n",
       "            </figure>\n",
       "        \n",
       "            <figure style=\"margin: 5px !important;\">\n",
       "              <img src=\"https://31.media.tumblr.com/be2b34de9ff751da15cbde3144d25007/tumblr_nh4oj86LJO1slj978o1_400.gif\" style=\"width: 120px; height: 90px\" >\n",
       "            </figure>\n",
       "        \n",
       "            <figure style=\"margin: 5px !important;\">\n",
       "              <img src=\"https://38.media.tumblr.com/5f45e9a56121b070ddceca58b37e9ace/tumblr_njaggwVmdn1un7vpco1_400.gif\" style=\"width: 120px; height: 90px\" >\n",
       "            </figure>\n",
       "        \n",
       "        </div>\n",
       "    "
      ],
      "text/plain": [
       "<IPython.core.display.HTML object>"
      ]
     },
     "execution_count": 34,
     "metadata": {},
     "output_type": "execute_result"
    }
   ],
   "source": [
    "gifs = search_gif(\"animals being cute\")\n",
    "display_gif(gifs)\n"
   ]
  },
  {
   "cell_type": "code",
   "execution_count": 35,
   "metadata": {},
   "outputs": [
    {
     "data": {
      "text/html": [
       "\n",
       "        <div style=\"display: flex; flex-flow: row wrap; text-align: center;\">\n",
       "        \n",
       "            <figure style=\"margin: 5px !important;\">\n",
       "              <img src=\"https://38.media.tumblr.com/f15089751a2f2ac54db50f2cc0659fb0/tumblr_naenf9skQT1rggk0bo1_400.gif\" style=\"width: 120px; height: 90px\" >\n",
       "            </figure>\n",
       "        \n",
       "            <figure style=\"margin: 5px !important;\">\n",
       "              <img src=\"https://38.media.tumblr.com/f9aaae6f9d2e2af17cb6deeb6ad15713/tumblr_n9lt3cvvy61trvs7go1_400.gif\" style=\"width: 120px; height: 90px\" >\n",
       "            </figure>\n",
       "        \n",
       "            <figure style=\"margin: 5px !important;\">\n",
       "              <img src=\"https://33.media.tumblr.com/61cf2e6af0e63d431cea07f1bf5c3fce/tumblr_nbm4g6rTLS1tl5a9oo1_400.gif\" style=\"width: 120px; height: 90px\" >\n",
       "            </figure>\n",
       "        \n",
       "            <figure style=\"margin: 5px !important;\">\n",
       "              <img src=\"https://38.media.tumblr.com/d44de105f1b276baac01eb1c7715b9a0/tumblr_nf24sk7MDS1qkibgzo1_500.gif\" style=\"width: 120px; height: 90px\" >\n",
       "            </figure>\n",
       "        \n",
       "            <figure style=\"margin: 5px !important;\">\n",
       "              <img src=\"https://33.media.tumblr.com/97b9db062d617a6b909d5642374f44b9/tumblr_n92iyqDqO91s1eq7yo1_250.gif\" style=\"width: 120px; height: 90px\" >\n",
       "            </figure>\n",
       "        \n",
       "            <figure style=\"margin: 5px !important;\">\n",
       "              <img src=\"https://31.media.tumblr.com/ee35386edeec1ff5f67faf89f2bb5a11/tumblr_nk1p5c17tS1ssdnnbo1_400.gif\" style=\"width: 120px; height: 90px\" >\n",
       "            </figure>\n",
       "        \n",
       "            <figure style=\"margin: 5px !important;\">\n",
       "              <img src=\"https://33.media.tumblr.com/0c0ae10c9fc60b1bf2a204f16afcbd81/tumblr_ncaftzIchN1tg281go1_400.gif\" style=\"width: 120px; height: 90px\" >\n",
       "            </figure>\n",
       "        \n",
       "            <figure style=\"margin: 5px !important;\">\n",
       "              <img src=\"https://33.media.tumblr.com/1ed5b68ec5933ede5b2f9200256237c5/tumblr_niua9uhldr1u93r6so1_400.gif\" style=\"width: 120px; height: 90px\" >\n",
       "            </figure>\n",
       "        \n",
       "            <figure style=\"margin: 5px !important;\">\n",
       "              <img src=\"https://38.media.tumblr.com/e5d4347eb533aa06fd20238d8b326b1c/tumblr_nff7ifHJnr1solzopo1_500.gif\" style=\"width: 120px; height: 90px\" >\n",
       "            </figure>\n",
       "        \n",
       "            <figure style=\"margin: 5px !important;\">\n",
       "              <img src=\"https://37.media.tumblr.com/6d87ff4dc55ab7d2d31f1b40997f64d7/tumblr_n952rocZdV1t1o9tno1_400.gif\" style=\"width: 120px; height: 90px\" >\n",
       "            </figure>\n",
       "        \n",
       "        </div>\n",
       "    "
      ],
      "text/plain": [
       "<IPython.core.display.HTML object>"
      ]
     },
     "execution_count": 35,
     "metadata": {},
     "output_type": "execute_result"
    }
   ],
   "source": [
    "gifs = search_gif(\"people being angry\")\n",
    "display_gif(gifs)\n"
   ]
  },
  {
   "cell_type": "code",
   "execution_count": 36,
   "metadata": {},
   "outputs": [
    {
     "data": {
      "text/html": [
       "\n",
       "        <div style=\"display: flex; flex-flow: row wrap; text-align: center;\">\n",
       "        \n",
       "            <figure style=\"margin: 5px !important;\">\n",
       "              <img src=\"https://31.media.tumblr.com/2a42598230ce78b14c1e010b1b8bc1bf/tumblr_newfs5f3b21thysnvo1_250.gif\" style=\"width: 120px; height: 90px\" >\n",
       "            </figure>\n",
       "        \n",
       "            <figure style=\"margin: 5px !important;\">\n",
       "              <img src=\"https://33.media.tumblr.com/b7d88c296436ce74217547853ecedfaf/tumblr_nqgr3t03ae1rk9zcyo1_1280.gif\" style=\"width: 120px; height: 90px\" >\n",
       "            </figure>\n",
       "        \n",
       "            <figure style=\"margin: 5px !important;\">\n",
       "              <img src=\"https://33.media.tumblr.com/3a567e5793b3c13efb7f7c4e4b359610/tumblr_nog7wyzRDQ1ty5qoho1_250.gif\" style=\"width: 120px; height: 90px\" >\n",
       "            </figure>\n",
       "        \n",
       "            <figure style=\"margin: 5px !important;\">\n",
       "              <img src=\"https://38.media.tumblr.com/66a2a7acc8ce515d58992bc0788b4540/tumblr_nee16ggWbQ1taytvao1_400.gif\" style=\"width: 120px; height: 90px\" >\n",
       "            </figure>\n",
       "        \n",
       "            <figure style=\"margin: 5px !important;\">\n",
       "              <img src=\"https://31.media.tumblr.com/88574dc6cf526445652dd569e5061b63/tumblr_n9izv8bCK31titpn6o1_250.gif\" style=\"width: 120px; height: 90px\" >\n",
       "            </figure>\n",
       "        \n",
       "            <figure style=\"margin: 5px !important;\">\n",
       "              <img src=\"https://38.media.tumblr.com/53d81b25b6b2e339084f194aa273babb/tumblr_mtxi16Fm3z1qzcey8o1_400.gif\" style=\"width: 120px; height: 90px\" >\n",
       "            </figure>\n",
       "        \n",
       "            <figure style=\"margin: 5px !important;\">\n",
       "              <img src=\"https://33.media.tumblr.com/29eb4fdc45054e612b3b255fcc039cde/tumblr_nhki44Aivl1u7qbdlo1_250.gif\" style=\"width: 120px; height: 90px\" >\n",
       "            </figure>\n",
       "        \n",
       "            <figure style=\"margin: 5px !important;\">\n",
       "              <img src=\"https://38.media.tumblr.com/504c94419a234c58b5f303b90d3dfae7/tumblr_nqpxss53VY1uus8ugo1_250.gif\" style=\"width: 120px; height: 90px\" >\n",
       "            </figure>\n",
       "        \n",
       "            <figure style=\"margin: 5px !important;\">\n",
       "              <img src=\"https://38.media.tumblr.com/0aa084e3ec85f8b5f7936b576b431283/tumblr_no98qtaRMd1uvqm8go1_250.gif\" style=\"width: 120px; height: 90px\" >\n",
       "            </figure>\n",
       "        \n",
       "            <figure style=\"margin: 5px !important;\">\n",
       "              <img src=\"https://38.media.tumblr.com/80d5c2a1fd1fa51d2daea2cc4c8cbed6/tumblr_nerwreUW0p1tjon47o1_400.gif\" style=\"width: 120px; height: 90px\" >\n",
       "            </figure>\n",
       "        \n",
       "        </div>\n",
       "    "
      ],
      "text/plain": [
       "<IPython.core.display.HTML object>"
      ]
     },
     "execution_count": 36,
     "metadata": {},
     "output_type": "execute_result"
    }
   ],
   "source": [
    "gifs = search_gif(\"a man dancing\")\n",
    "display_gif(gifs)\n"
   ]
  },
  {
   "cell_type": "code",
   "execution_count": 37,
   "metadata": {
    "colab": {
     "base_uri": "https://localhost:8080/",
     "height": 122
    },
    "id": "DGHLvLLQBizb",
    "outputId": "e92aa493-d3a4-4f76-f1b8-41313acd8100"
   },
   "outputs": [
    {
     "data": {
      "text/html": [
       "\n",
       "        <div style=\"display: flex; flex-flow: row wrap; text-align: center;\">\n",
       "        \n",
       "            <figure style=\"margin: 5px !important;\">\n",
       "              <img src=\"https://33.media.tumblr.com/b27107ead2c85c7adcdccd1581d5fcdb/tumblr_no8ub0S6pC1r09o0mo1_250.gif\" style=\"width: 120px; height: 90px\" >\n",
       "            </figure>\n",
       "        \n",
       "            <figure style=\"margin: 5px !important;\">\n",
       "              <img src=\"https://33.media.tumblr.com/526aa008711e8a10b42f35a7f01723f1/tumblr_nfutjdMpTZ1r0kw6ko1_250.gif\" style=\"width: 120px; height: 90px\" >\n",
       "            </figure>\n",
       "        \n",
       "            <figure style=\"margin: 5px !important;\">\n",
       "              <img src=\"https://33.media.tumblr.com/3c4a71fcf5ab0c858253d26e433e51ea/tumblr_nbdszk9TUX1rik13to1_500.gif\" style=\"width: 120px; height: 90px\" >\n",
       "            </figure>\n",
       "        \n",
       "            <figure style=\"margin: 5px !important;\">\n",
       "              <img src=\"https://38.media.tumblr.com/697655681e81e048324104cee4ce91ae/tumblr_na83gnZpD71sohc0oo1_250.gif\" style=\"width: 120px; height: 90px\" >\n",
       "            </figure>\n",
       "        \n",
       "            <figure style=\"margin: 5px !important;\">\n",
       "              <img src=\"https://33.media.tumblr.com/c45ddcedbd27c05e9b161ee728724b9e/tumblr_nowe9hyCN41s0uaixo1_400.gif\" style=\"width: 120px; height: 90px\" >\n",
       "            </figure>\n",
       "        \n",
       "            <figure style=\"margin: 5px !important;\">\n",
       "              <img src=\"https://38.media.tumblr.com/9de2be73fb5b767092b5738fda438ed0/tumblr_noctf0galn1rqr3rbo1_500.gif\" style=\"width: 120px; height: 90px\" >\n",
       "            </figure>\n",
       "        \n",
       "            <figure style=\"margin: 5px !important;\">\n",
       "              <img src=\"https://38.media.tumblr.com/74cff22186ed3c906a6694d5820eec82/tumblr_nh2hjhz4Qs1tl5e30o1_400.gif\" style=\"width: 120px; height: 90px\" >\n",
       "            </figure>\n",
       "        \n",
       "            <figure style=\"margin: 5px !important;\">\n",
       "              <img src=\"https://33.media.tumblr.com/13cff9f144a16121e8fb2506e0a9ae99/tumblr_n4p5c5LSZs1sqxmy5o1_500.gif\" style=\"width: 120px; height: 90px\" >\n",
       "            </figure>\n",
       "        \n",
       "            <figure style=\"margin: 5px !important;\">\n",
       "              <img src=\"https://38.media.tumblr.com/8f816d5f3e0ce4a29a3a52b183606eda/tumblr_n9bq3uQdab1tpa2reo1_250.gif\" style=\"width: 120px; height: 90px\" >\n",
       "            </figure>\n",
       "        \n",
       "            <figure style=\"margin: 5px !important;\">\n",
       "              <img src=\"https://38.media.tumblr.com/6a1fb846930ded5339e93f3d93ed3d9e/tumblr_nasq1kuyzk1qew089o1_400.gif\" style=\"width: 120px; height: 90px\" >\n",
       "            </figure>\n",
       "        \n",
       "        </div>\n",
       "    "
      ],
      "text/plain": [
       "<IPython.core.display.HTML object>"
      ]
     },
     "execution_count": 37,
     "metadata": {},
     "output_type": "execute_result"
    }
   ],
   "source": [
    "gifs = search_gif(\"a woman dancing\")\n",
    "display_gif(gifs)\n"
   ]
  },
  {
   "cell_type": "code",
   "execution_count": 38,
   "metadata": {
    "colab": {
     "base_uri": "https://localhost:8080/",
     "height": 122
    },
    "id": "4VTSoj8xL_u_",
    "outputId": "1c942c5e-7a21-4789-8ff4-ccbb3ffd0eb7"
   },
   "outputs": [
    {
     "data": {
      "text/html": [
       "\n",
       "        <div style=\"display: flex; flex-flow: row wrap; text-align: center;\">\n",
       "        \n",
       "            <figure style=\"margin: 5px !important;\">\n",
       "              <img src=\"https://33.media.tumblr.com/7ada83ae354be1d83ea4407fea789ab8/tumblr_na0e6razjV1s71nvbo1_250.gif\" style=\"width: 120px; height: 90px\" >\n",
       "            </figure>\n",
       "        \n",
       "            <figure style=\"margin: 5px !important;\">\n",
       "              <img src=\"https://33.media.tumblr.com/3be31f4531ed041ff9b80465b56d810e/tumblr_nr0dycLuRO1useffdo1_400.gif\" style=\"width: 120px; height: 90px\" >\n",
       "            </figure>\n",
       "        \n",
       "            <figure style=\"margin: 5px !important;\">\n",
       "              <img src=\"https://33.media.tumblr.com/f0edc38b8dacce783bebcdf41db55a93/tumblr_npapb2c4Wz1uolkubo1_250.gif\" style=\"width: 120px; height: 90px\" >\n",
       "            </figure>\n",
       "        \n",
       "            <figure style=\"margin: 5px !important;\">\n",
       "              <img src=\"https://33.media.tumblr.com/2bf0f300d9ecfbcedf2dd3ba2b40b5e5/tumblr_ne5p2oTuCj1tdmffyo1_250.gif\" style=\"width: 120px; height: 90px\" >\n",
       "            </figure>\n",
       "        \n",
       "            <figure style=\"margin: 5px !important;\">\n",
       "              <img src=\"https://38.media.tumblr.com/3e1f37fea789bb1508d40e8c30f791ae/tumblr_na3xfcUdnK1tiamx1o1_400.gif\" style=\"width: 120px; height: 90px\" >\n",
       "            </figure>\n",
       "        \n",
       "            <figure style=\"margin: 5px !important;\">\n",
       "              <img src=\"https://38.media.tumblr.com/0b04187cb51a8889b0f41e5fbe390df2/tumblr_nbcltiDvcq1s7ri4yo1_400.gif\" style=\"width: 120px; height: 90px\" >\n",
       "            </figure>\n",
       "        \n",
       "            <figure style=\"margin: 5px !important;\">\n",
       "              <img src=\"https://38.media.tumblr.com/e52a1d77dc0a679840a715c02035e5da/tumblr_nfbeo6Qqr91tl8fnfo1_400.gif\" style=\"width: 120px; height: 90px\" >\n",
       "            </figure>\n",
       "        \n",
       "            <figure style=\"margin: 5px !important;\">\n",
       "              <img src=\"https://38.media.tumblr.com/a67f2f007b9881080aa3fe3584847bc5/tumblr_nc1wzyMaJP1tzj4j8o1_250.gif\" style=\"width: 120px; height: 90px\" >\n",
       "            </figure>\n",
       "        \n",
       "            <figure style=\"margin: 5px !important;\">\n",
       "              <img src=\"https://38.media.tumblr.com/61e9abf3681eeacea18dae288f084d62/tumblr_nbw9gwXM0e1tk2ngvo1_400.gif\" style=\"width: 120px; height: 90px\" >\n",
       "            </figure>\n",
       "        \n",
       "            <figure style=\"margin: 5px !important;\">\n",
       "              <img src=\"https://31.media.tumblr.com/78355496a2ed41f0aa9fe855f9460bc3/tumblr_nais3s7sWa1s3att3o1_400.gif\" style=\"width: 120px; height: 90px\" >\n",
       "            </figure>\n",
       "        \n",
       "        </div>\n",
       "    "
      ],
      "text/plain": [
       "<IPython.core.display.HTML object>"
      ]
     },
     "execution_count": 38,
     "metadata": {},
     "output_type": "execute_result"
    }
   ],
   "source": [
    "gifs = search_gif(\"an animal dancing\")\n",
    "display_gif(gifs)\n"
   ]
  },
  {
   "cell_type": "markdown",
   "metadata": {},
   "source": [
    "Let's describe the third GIF with the ginger dog dancing on his hind legs.\n"
   ]
  },
  {
   "cell_type": "code",
   "execution_count": 39,
   "metadata": {},
   "outputs": [
    {
     "data": {
      "text/html": [
       "\n",
       "        <div style=\"display: flex; flex-flow: row wrap; text-align: center;\">\n",
       "        \n",
       "            <figure style=\"margin: 5px !important;\">\n",
       "              <img src=\"https://38.media.tumblr.com/a67f2f007b9881080aa3fe3584847bc5/tumblr_nc1wzyMaJP1tzj4j8o1_250.gif\" style=\"width: 120px; height: 90px\" >\n",
       "            </figure>\n",
       "        \n",
       "            <figure style=\"margin: 5px !important;\">\n",
       "              <img src=\"https://33.media.tumblr.com/2bf0f300d9ecfbcedf2dd3ba2b40b5e5/tumblr_ne5p2oTuCj1tdmffyo1_250.gif\" style=\"width: 120px; height: 90px\" >\n",
       "            </figure>\n",
       "        \n",
       "            <figure style=\"margin: 5px !important;\">\n",
       "              <img src=\"https://33.media.tumblr.com/ec768e8a6f881fbc0f329932c8591a88/tumblr_mpqwb14Fsq1rjcfxro1_250.gif\" style=\"width: 120px; height: 90px\" >\n",
       "            </figure>\n",
       "        \n",
       "            <figure style=\"margin: 5px !important;\">\n",
       "              <img src=\"https://33.media.tumblr.com/7ada83ae354be1d83ea4407fea789ab8/tumblr_na0e6razjV1s71nvbo1_250.gif\" style=\"width: 120px; height: 90px\" >\n",
       "            </figure>\n",
       "        \n",
       "            <figure style=\"margin: 5px !important;\">\n",
       "              <img src=\"https://38.media.tumblr.com/f8b6d3d79b59462019c2daf2ba8b4148/tumblr_np762bxBYV1t7jda2o1_400.gif\" style=\"width: 120px; height: 90px\" >\n",
       "            </figure>\n",
       "        \n",
       "            <figure style=\"margin: 5px !important;\">\n",
       "              <img src=\"https://38.media.tumblr.com/a5ae79c2d62c592d7565684a72af8f2c/tumblr_nageslBNqC1tstoffo1_500.gif\" style=\"width: 120px; height: 90px\" >\n",
       "            </figure>\n",
       "        \n",
       "            <figure style=\"margin: 5px !important;\">\n",
       "              <img src=\"https://38.media.tumblr.com/3e1f37fea789bb1508d40e8c30f791ae/tumblr_na3xfcUdnK1tiamx1o1_400.gif\" style=\"width: 120px; height: 90px\" >\n",
       "            </figure>\n",
       "        \n",
       "            <figure style=\"margin: 5px !important;\">\n",
       "              <img src=\"https://33.media.tumblr.com/aec9cbbdf826f98307e6d5f3d544a4c2/tumblr_mmlrbhGDAO1qaqutao1_500.gif\" style=\"width: 120px; height: 90px\" >\n",
       "            </figure>\n",
       "        \n",
       "            <figure style=\"margin: 5px !important;\">\n",
       "              <img src=\"https://38.media.tumblr.com/0b04187cb51a8889b0f41e5fbe390df2/tumblr_nbcltiDvcq1s7ri4yo1_400.gif\" style=\"width: 120px; height: 90px\" >\n",
       "            </figure>\n",
       "        \n",
       "            <figure style=\"margin: 5px !important;\">\n",
       "              <img src=\"https://33.media.tumblr.com/14f9b213a7355096c14b0af3a7768f5d/tumblr_npexfuFU2K1ti77bgo1_400.gif\" style=\"width: 120px; height: 90px\" >\n",
       "            </figure>\n",
       "        \n",
       "        </div>\n",
       "    "
      ],
      "text/plain": [
       "<IPython.core.display.HTML object>"
      ]
     },
     "execution_count": 39,
     "metadata": {},
     "output_type": "execute_result"
    }
   ],
   "source": [
    "gifs = search_gif(\"a fluffy dog being cute and dancing like a person\")\n",
    "display_gif(gifs)\n"
   ]
  },
  {
   "cell_type": "markdown",
   "metadata": {},
   "source": [
    "These look like pretty cool results.\n",
    "\n",
    "---\n"
   ]
  }
 ],
 "metadata": {
  "accelerator": "GPU",
  "colab": {
   "collapsed_sections": [],
   "name": "gif_search.ipynb",
   "provenance": []
  },
  "kernelspec": {
   "display_name": "base",
   "language": "python",
   "name": "python3"
  },
  "language_info": {
   "codemirror_mode": {
    "name": "ipython",
    "version": 3
   },
   "file_extension": ".py",
   "mimetype": "text/x-python",
   "name": "python",
   "nbconvert_exporter": "python",
   "pygments_lexer": "ipython3",
   "version": "3.11.6"
  },
  "vscode": {
   "interpreter": {
    "hash": "5fe10bf018ef3e697f9035d60bf60847932a12bface18908407fd371fe880db9"
   }
  },
  "widgets": {}
 },
 "nbformat": 4,
 "nbformat_minor": 1
}
